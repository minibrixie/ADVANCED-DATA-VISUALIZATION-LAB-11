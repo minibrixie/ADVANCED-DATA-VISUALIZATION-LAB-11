{
  "nbformat": 4,
  "nbformat_minor": 0,
  "metadata": {
    "colab": {
      "provenance": [],
      "authorship_tag": "ABX9TyPmPghB7pg9caAJivp6MF2j",
      "include_colab_link": true
    },
    "kernelspec": {
      "name": "python3",
      "display_name": "Python 3"
    },
    "language_info": {
      "name": "python"
    }
  },
  "cells": [
    {
      "cell_type": "markdown",
      "metadata": {
        "id": "view-in-github",
        "colab_type": "text"
      },
      "source": [
        "<a href=\"https://colab.research.google.com/github/minibrixie/ADVANCED-DATA-VISUALIZATION-LAB-11/blob/main/ADVANCED_DATA_VISUALIZATION_LAB_11.ipynb\" target=\"_parent\"><img src=\"https://colab.research.google.com/assets/colab-badge.svg\" alt=\"Open In Colab\"/></a>"
      ]
    },
    {
      "cell_type": "code",
      "execution_count": 1,
      "metadata": {
        "colab": {
          "base_uri": "https://localhost:8080/"
        },
        "id": "2ocUK5oL8HEq",
        "outputId": "ff28d27e-c2e1-4888-806f-5b1b03b1ee35"
      },
      "outputs": [
        {
          "output_type": "execute_result",
          "data": {
            "text/plain": [
              "list"
            ]
          },
          "metadata": {},
          "execution_count": 1
        }
      ],
      "source": [
        "price = [2, 1, 10] \n",
        "type(price)"
      ]
    },
    {
      "cell_type": "code",
      "source": [
        "quantity_sold = [17, 40, 1] \n",
        "type(quantity_sold)"
      ],
      "metadata": {
        "colab": {
          "base_uri": "https://localhost:8080/"
        },
        "id": "qh9qVQlm8L1o",
        "outputId": "b4dbb3ef-af8a-4229-dd4e-68c2379ef781"
      },
      "execution_count": 2,
      "outputs": [
        {
          "output_type": "execute_result",
          "data": {
            "text/plain": [
              "list"
            ]
          },
          "metadata": {},
          "execution_count": 2
        }
      ]
    },
    {
      "cell_type": "code",
      "source": [
        "import numpy as np"
      ],
      "metadata": {
        "id": "7QeOTAgq8O7f"
      },
      "execution_count": 3,
      "outputs": []
    },
    {
      "cell_type": "code",
      "source": [
        "price_array = np.array(price) \n",
        "quantity_sold_array = np.array(quantity_sold) \n",
        "type(price_array)"
      ],
      "metadata": {
        "colab": {
          "base_uri": "https://localhost:8080/"
        },
        "id": "CHxS4Iyi8VNu",
        "outputId": "da8016cb-3fcf-4243-b2fc-db240530186f"
      },
      "execution_count": 4,
      "outputs": [
        {
          "output_type": "execute_result",
          "data": {
            "text/plain": [
              "numpy.ndarray"
            ]
          },
          "metadata": {},
          "execution_count": 4
        }
      ]
    },
    {
      "cell_type": "code",
      "source": [
        "price_array * quantity_sold_array"
      ],
      "metadata": {
        "colab": {
          "base_uri": "https://localhost:8080/"
        },
        "id": "fAEx7eXM8W-o",
        "outputId": "159424d3-ae8d-4949-9455-df2b02a6d158"
      },
      "execution_count": 5,
      "outputs": [
        {
          "output_type": "execute_result",
          "data": {
            "text/plain": [
              "array([34, 40, 10])"
            ]
          },
          "metadata": {},
          "execution_count": 5
        }
      ]
    },
    {
      "cell_type": "code",
      "source": [
        "cost_array = np.array([0.25, 0.50, 5.00])"
      ],
      "metadata": {
        "id": "-aTOUESB8arv"
      },
      "execution_count": 6,
      "outputs": []
    },
    {
      "cell_type": "code",
      "source": [
        "profit_array = price_array - cost_array \n",
        "print(profit_array)"
      ],
      "metadata": {
        "colab": {
          "base_uri": "https://localhost:8080/"
        },
        "id": "zr-F-yk28dyA",
        "outputId": "9f4616a9-30e8-4be3-e120-c8e4e86271c5"
      },
      "execution_count": 7,
      "outputs": [
        {
          "output_type": "stream",
          "name": "stdout",
          "text": [
            "[1.75 0.5  5.  ]\n"
          ]
        }
      ]
    },
    {
      "cell_type": "code",
      "source": [
        "profit_array > 2.00"
      ],
      "metadata": {
        "colab": {
          "base_uri": "https://localhost:8080/"
        },
        "id": "3DXFcEeO8hKs",
        "outputId": "2d15399d-c1f2-48b0-9bee-83b8cf2a7825"
      },
      "execution_count": 8,
      "outputs": [
        {
          "output_type": "execute_result",
          "data": {
            "text/plain": [
              "array([False, False,  True])"
            ]
          },
          "metadata": {},
          "execution_count": 8
        }
      ]
    },
    {
      "cell_type": "code",
      "source": [
        "price_array = price_array + [7] \n",
        "print(price_array)"
      ],
      "metadata": {
        "colab": {
          "base_uri": "https://localhost:8080/"
        },
        "id": "jDPDHMsd8kW8",
        "outputId": "c5459e67-1aae-4e7e-bcfe-3aab4b7f8b26"
      },
      "execution_count": 9,
      "outputs": [
        {
          "output_type": "stream",
          "name": "stdout",
          "text": [
            "[ 9  8 17]\n"
          ]
        }
      ]
    },
    {
      "cell_type": "code",
      "source": [
        "price_array = price_array - [7]"
      ],
      "metadata": {
        "id": "GTkHalgr8nnn"
      },
      "execution_count": 10,
      "outputs": []
    },
    {
      "cell_type": "code",
      "source": [
        "price_array = np.append(price_array, 7) \n",
        "print(price_array)"
      ],
      "metadata": {
        "colab": {
          "base_uri": "https://localhost:8080/"
        },
        "id": "GyQDG8c78rTa",
        "outputId": "579aa3de-c861-4c39-8f02-0bbda1d2840d"
      },
      "execution_count": 11,
      "outputs": [
        {
          "output_type": "stream",
          "name": "stdout",
          "text": [
            "[ 2  1 10  7]\n"
          ]
        }
      ]
    },
    {
      "cell_type": "code",
      "source": [
        "price_array = np.append(price_array, [4.50, 3, 4, 9]) \n",
        "print(price_array)"
      ],
      "metadata": {
        "colab": {
          "base_uri": "https://localhost:8080/"
        },
        "id": "RuFOfxra8uvL",
        "outputId": "76cb6ad5-082e-4d0b-acef-020fbaf92709"
      },
      "execution_count": 12,
      "outputs": [
        {
          "output_type": "stream",
          "name": "stdout",
          "text": [
            "[ 2.   1.  10.   7.   4.5  3.   4.   9. ]\n"
          ]
        }
      ]
    },
    {
      "cell_type": "code",
      "source": [
        "print(price_array.dtype)"
      ],
      "metadata": {
        "colab": {
          "base_uri": "https://localhost:8080/"
        },
        "id": "HwdGeeWB8u2e",
        "outputId": "18416178-3de2-44cb-9342-3de283eec0b6"
      },
      "execution_count": 13,
      "outputs": [
        {
          "output_type": "stream",
          "name": "stdout",
          "text": [
            "float64\n"
          ]
        }
      ]
    },
    {
      "cell_type": "code",
      "source": [
        "price_array = np.delete(price_array, -1) \n",
        "print(price_array)"
      ],
      "metadata": {
        "colab": {
          "base_uri": "https://localhost:8080/"
        },
        "id": "9LgvmM2D81r2",
        "outputId": "d7114332-210a-4b51-c7ee-49170434b2dc"
      },
      "execution_count": 14,
      "outputs": [
        {
          "output_type": "stream",
          "name": "stdout",
          "text": [
            "[ 2.   1.  10.   7.   4.5  3.   4. ]\n"
          ]
        }
      ]
    },
    {
      "cell_type": "code",
      "source": [
        "price_array[2] = 12 \n",
        "print(price_array)"
      ],
      "metadata": {
        "colab": {
          "base_uri": "https://localhost:8080/"
        },
        "id": "IX6KKzVQ858B",
        "outputId": "8a3014f8-c3a9-4ec2-bd5f-b4b740cd78e7"
      },
      "execution_count": 15,
      "outputs": [
        {
          "output_type": "stream",
          "name": "stdout",
          "text": [
            "[ 2.   1.  12.   7.   4.5  3.   4. ]\n"
          ]
        }
      ]
    }
  ]
}